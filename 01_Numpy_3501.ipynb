{
 "cells": [
  {
   "cell_type": "markdown",
   "id": "e28421f9-d1a1-47dd-99b2-9af9d4c2c865",
   "metadata": {},
   "source": [
    "# Introducción a Numpy"
   ]
  },
  {
   "cell_type": "markdown",
   "id": "1639864a-440e-44db-96e4-e76060f7a655",
   "metadata": {},
   "source": [
    "(https://numpy.org/doc/stable/) es una libreria para la computacion con Python"
   ]
  },
  {
   "cell_type": "markdown",
   "id": "163867a9-7036-48a1-af4a-8c1076629fc5",
   "metadata": {},
   "source": [
    "* Proporciona Arrays N-DImensiones.\n",
    "* Implementa funciones matemáticas sofisticadas.\n",
    "* Proporciona herramientas para integrar C/C++ y Fortran.\n",
    "* Proporciona mecanismos para facilitar la realización de las tareas relacionadas con álgebralineal o números aleatorios.\n",
    "  "
   ]
  },
  {
   "cell_type": "markdown",
   "id": "71588f10-5766-4602-92ce-20f9cdd69540",
   "metadata": {},
   "source": [
    "## Imports\n"
   ]
  },
  {
   "cell_type": "code",
   "execution_count": 1,
   "id": "1e3c887e-4867-423f-9f54-13f20eb368d8",
   "metadata": {},
   "outputs": [],
   "source": [
    "import numpy as np"
   ]
  },
  {
   "cell_type": "markdown",
   "id": "579d18c2-c463-463b-acfd-53fb6093be40",
   "metadata": {},
   "source": [
    "## Arrays \n",
    "\n",
    "Un array es una estructura de datos que consiste en una colección de elementos (valores o variables), cada uno identificado por almenos un índice o clave. Un array se almacena de modo que la posición de cada elemento se almacena de modo que la posición de cada elemento de pueda calcular a partir de tu tupla índice , mediante una fórmula matemática. El tipo más simple de array es un array lineal, también llamado array unidimensional."
   ]
  },
  {
   "cell_type": "markdown",
   "id": "f9bef839-a4e4-45db-a7f7-63668bca7113",
   "metadata": {},
   "source": [
    "En Numpy:\n",
    "\n",
    "* Cada dimensión se denomina axis.\n",
    "* El número de dimensiones se denomina rank.\n",
    "* La lista de dimensiones con su correspondiente longitud se denomina shape.\n",
    "* El número total de elementos (multiplicación de la longitud de las dimensiones) se denomina size."
   ]
  },
  {
   "cell_type": "code",
   "execution_count": 2,
   "id": "fb56a5da-7db1-41bc-ad03-351e4d5092ad",
   "metadata": {},
   "outputs": [
    {
     "data": {
      "text/plain": [
       "array([[0., 0., 0., 0.],\n",
       "       [0., 0., 0., 0.]])"
      ]
     },
     "execution_count": 2,
     "metadata": {},
     "output_type": "execute_result"
    }
   ],
   "source": [
    "# Array cuyos valores son todos 0.\n",
    "a = np.zeros((2, 4))\n",
    "a"
   ]
  },
  {
   "cell_type": "markdown",
   "id": "1284978d-732f-4ac2-a2c8-9343adef0c62",
   "metadata": {},
   "source": [
    "a es un array:\n",
    "\n",
    "* Con dos axis, el primero de longitud 2 y segundo de longitud 4.\n",
    "* Con un rank igual a 2.\n",
    "* Con un shape igual (2,4).\n",
    "* COn un size igual a 8."
   ]
  },
  {
   "cell_type": "code",
   "execution_count": 3,
   "id": "e3c465c7-95ff-4ae9-b3f4-5faa60596adf",
   "metadata": {},
   "outputs": [
    {
     "data": {
      "text/plain": [
       "(2, 4)"
      ]
     },
     "execution_count": 3,
     "metadata": {},
     "output_type": "execute_result"
    }
   ],
   "source": [
    "a.shape"
   ]
  },
  {
   "cell_type": "code",
   "execution_count": 4,
   "id": "27fccae5-9729-456d-ba92-f84d5698b631",
   "metadata": {},
   "outputs": [
    {
     "data": {
      "text/plain": [
       "2"
      ]
     },
     "execution_count": 4,
     "metadata": {},
     "output_type": "execute_result"
    }
   ],
   "source": [
    "a.ndim"
   ]
  },
  {
   "cell_type": "code",
   "execution_count": 5,
   "id": "6b009029-d1ed-431b-b084-526000ff85c8",
   "metadata": {},
   "outputs": [
    {
     "data": {
      "text/plain": [
       "8"
      ]
     },
     "execution_count": 5,
     "metadata": {},
     "output_type": "execute_result"
    }
   ],
   "source": [
    "a.size"
   ]
  },
  {
   "cell_type": "markdown",
   "id": "a3dfc606-e478-4376-8ebf-ab4b52cd6c75",
   "metadata": {},
   "source": [
    "## Creación de arrays"
   ]
  },
  {
   "cell_type": "code",
   "execution_count": 6,
   "id": "0634b717-0466-48e7-8fc6-ba1739013eb4",
   "metadata": {},
   "outputs": [
    {
     "data": {
      "text/plain": [
       "array([[[0., 0., 0., 0.],\n",
       "        [0., 0., 0., 0.],\n",
       "        [0., 0., 0., 0.]],\n",
       "\n",
       "       [[0., 0., 0., 0.],\n",
       "        [0., 0., 0., 0.],\n",
       "        [0., 0., 0., 0.]]])"
      ]
     },
     "execution_count": 6,
     "metadata": {},
     "output_type": "execute_result"
    }
   ],
   "source": [
    "# Array cuyos valores son todos 0.\n",
    "np.zeros((2, 3, 4))"
   ]
  },
  {
   "cell_type": "code",
   "execution_count": 7,
   "id": "2aecf125-9dae-4ac3-8ec1-c2ad5e3de8c7",
   "metadata": {},
   "outputs": [
    {
     "data": {
      "text/plain": [
       "array([[[1., 1., 1., 1.],\n",
       "        [1., 1., 1., 1.],\n",
       "        [1., 1., 1., 1.]],\n",
       "\n",
       "       [[1., 1., 1., 1.],\n",
       "        [1., 1., 1., 1.],\n",
       "        [1., 1., 1., 1.]]])"
      ]
     },
     "execution_count": 7,
     "metadata": {},
     "output_type": "execute_result"
    }
   ],
   "source": [
    "# Array cuyos valores son todos 1.\n",
    "np.ones((2, 3, 4))"
   ]
  },
  {
   "cell_type": "code",
   "execution_count": 8,
   "id": "062adc29-97c0-411d-ad7e-65221db97d4f",
   "metadata": {},
   "outputs": [
    {
     "data": {
      "text/plain": [
       "array([[[8, 8, 8, 8],\n",
       "        [8, 8, 8, 8],\n",
       "        [8, 8, 8, 8]],\n",
       "\n",
       "       [[8, 8, 8, 8],\n",
       "        [8, 8, 8, 8],\n",
       "        [8, 8, 8, 8]]])"
      ]
     },
     "execution_count": 8,
     "metadata": {},
     "output_type": "execute_result"
    }
   ],
   "source": [
    "# Array cuyos valores son todos el valor indicado como segundo parámetro de la función.\n",
    "np.full((2, 3, 4), 8)"
   ]
  },
  {
   "cell_type": "code",
   "execution_count": 9,
   "id": "111f99ba-3f94-4348-bc64-4b6b9b528d6e",
   "metadata": {},
   "outputs": [
    {
     "data": {
      "text/plain": [
       "array([[[ 1.45890159e-316,  0.00000000e+000,  6.42265168e-310,\n",
       "          6.42265160e-310,  1.69892279e+043,  6.42265168e-310,\n",
       "          6.42265160e-310,  1.82403474e+307,  6.42265168e-310],\n",
       "        [ 6.42265160e-310, -1.22065100e-103,  6.42265168e-310,\n",
       "          6.42265160e-310,  1.44234956e+306,  6.42265168e-310,\n",
       "          6.42265160e-310,  2.93966045e+223,  6.42265168e-310],\n",
       "        [ 6.42265160e-310, -6.32831429e-008,  6.42265168e-310,\n",
       "          6.42265160e-310,  7.93710671e+126,  6.42265168e-310,\n",
       "          6.42265160e-310, -8.62924329e+269,  6.42265168e-310]],\n",
       "\n",
       "       [[ 6.42265160e-310,  2.78038122e-214,  6.42265168e-310,\n",
       "          6.42265160e-310, -3.48025369e-068,  6.42265168e-310,\n",
       "          6.42265160e-310,  4.10197555e-059,  6.42265168e-310],\n",
       "        [ 6.42265160e-310, -1.05284803e-257,  6.42265168e-310,\n",
       "          6.42265160e-310, -1.25499809e+215,  6.42265168e-310,\n",
       "          6.42265160e-310,  1.95292799e-114,  6.42265168e-310],\n",
       "        [ 6.42265160e-310,  3.80495587e+038,  6.42265168e-310,\n",
       "          6.42265160e-310,  2.18370470e-264,  6.42265168e-310,\n",
       "          6.42265160e-310, -1.14674083e-190,  6.42265168e-310]]])"
      ]
     },
     "execution_count": 9,
     "metadata": {},
     "output_type": "execute_result"
    }
   ],
   "source": [
    "# EL resultado de np.empty no es predecible \n",
    "# Se inicializa con los valores del array con lo que haya en memoria en ese momento \n",
    "np.empty((2, 3, 9))"
   ]
  },
  {
   "cell_type": "code",
   "execution_count": 10,
   "id": "a3dc2b58-3ed2-40af-9baa-be117dc63bd5",
   "metadata": {},
   "outputs": [
    {
     "data": {
      "text/plain": [
       "array([[1, 2, 3],\n",
       "       [4, 5, 6]])"
      ]
     },
     "execution_count": 10,
     "metadata": {},
     "output_type": "execute_result"
    }
   ],
   "source": [
    "# Inicializar el array utilizando un array de Python.\n",
    "b = np.array([[1, 2, 3], [4, 5, 6]])\n",
    "b"
   ]
  },
  {
   "cell_type": "code",
   "execution_count": 11,
   "id": "b5f0ecb9-b03d-4bbf-a8d7-7e1d78b31142",
   "metadata": {},
   "outputs": [
    {
     "data": {
      "text/plain": [
       "(2, 3)"
      ]
     },
     "execution_count": 11,
     "metadata": {},
     "output_type": "execute_result"
    }
   ],
   "source": [
    "b.shape"
   ]
  },
  {
   "cell_type": "code",
   "execution_count": 12,
   "id": "259de6aa-e1ac-46c3-9b22-fc1c95969ab7",
   "metadata": {},
   "outputs": [
    {
     "name": "stdout",
     "output_type": "stream",
     "text": [
      "[0.         0.66666667 1.33333333 2.         2.66666667 3.33333333\n",
      " 4.         4.66666667 5.33333333 6.        ]\n"
     ]
    }
   ],
   "source": [
    "# Crear un array utilizando una funcion basada en rangos \n",
    "# (minimo, maximo, número elementos del array)\n",
    "print(np.linspace(0, 6, 10))"
   ]
  },
  {
   "cell_type": "code",
   "execution_count": 13,
   "id": "4c1e6957-faf8-49d2-9f76-dc84e79ed9c3",
   "metadata": {},
   "outputs": [
    {
     "data": {
      "text/plain": [
       "array([[[0.4942124 , 0.94878866, 0.74332062, 0.66142598],\n",
       "        [0.61536023, 0.39371449, 0.22471579, 0.3032333 ],\n",
       "        [0.32405551, 0.03339615, 0.38729299, 0.08461321]],\n",
       "\n",
       "       [[0.80169077, 0.64565138, 0.30583436, 0.13359857],\n",
       "        [0.52493606, 0.70714301, 0.99640512, 0.23516968],\n",
       "        [0.70309938, 0.75547815, 0.90329795, 0.60602275]]])"
      ]
     },
     "execution_count": 13,
     "metadata": {},
     "output_type": "execute_result"
    }
   ],
   "source": [
    "#Inicializar el array con valores aleatorios.\n",
    "np.random.rand(2, 3, 4)"
   ]
  },
  {
   "cell_type": "code",
   "execution_count": 14,
   "id": "8c53aa62-c795-45d3-bc43-456cf8ef536f",
   "metadata": {},
   "outputs": [
    {
     "data": {
      "text/plain": [
       "array([[ 0.00435644, -0.68288722,  0.87569581,  1.312436  ],\n",
       "       [-0.02288856,  0.63685883, -1.31154807, -0.95350119]])"
      ]
     },
     "execution_count": 14,
     "metadata": {},
     "output_type": "execute_result"
    }
   ],
   "source": [
    "# Iniciar array con valores aleatorios conforme a una distribución normal.\n",
    "np.random.randn(2, 4)"
   ]
  },
  {
   "cell_type": "code",
   "execution_count": 15,
   "id": "f08eef9a-103a-4424-a432-1c986e5b3df6",
   "metadata": {},
   "outputs": [
    {
     "data": {
      "text/plain": [
       "<function matplotlib.pyplot.show(close=None, block=None)>"
      ]
     },
     "execution_count": 15,
     "metadata": {},
     "output_type": "execute_result"
    },
    {
     "data": {
      "image/png": "[encoded data removed]",
      "text/plain": [
       "<Figure size 640x480 with 1 Axes>"
      ]
     },
     "metadata": {},
     "output_type": "display_data"
    }
   ],
   "source": [
    "%matplotlib inline\n",
    "import matplotlib.pyplot as plt\n",
    "\n",
    "c = np.random.randn(10000)\n",
    "plt.hist(c, bins=200)\n",
    "plt.show"
   ]
  },
  {
   "cell_type": "code",
   "execution_count": 16,
   "id": "ada91fdf-23f6-4eec-abde-c0a2336e6b2c",
   "metadata": {},
   "outputs": [
    {
     "data": {
      "text/plain": [
       "array([[ 0.,  2.,  4.,  6.,  8.],\n",
       "       [ 1.,  3.,  5.,  7.,  9.],\n",
       "       [ 2.,  4.,  6.,  8., 10.]])"
      ]
     },
     "execution_count": 16,
     "metadata": {},
     "output_type": "execute_result"
    }
   ],
   "source": [
    "# Inicializar un array, utilizando una función personalizada.\n",
    "\n",
    "def func(x, y):\n",
    "    return x + 2 * y\n",
    "\n",
    "\n",
    "np.fromfunction(func, (3, 5))"
   ]
  },
  {
   "cell_type": "markdown",
   "id": "425cc48e-2773-42ac-8be5-2d9fb29bc10d",
   "metadata": {},
   "source": [
    "## Acceso a los elementos de un array \n",
    "\n",
    "### Array Unidimensional"
   ]
  },
  {
   "cell_type": "code",
   "execution_count": 17,
   "id": "11e071ae-de0a-4f10-8ad6-958bcf061351",
   "metadata": {},
   "outputs": [
    {
     "name": "stdout",
     "output_type": "stream",
     "text": [
      "Shape: (6,)\n",
      "Array_uni [ 1  3  5  7  9 11]\n"
     ]
    }
   ],
   "source": [
    "# Acceder a los elementos de un array .\n",
    "array_uni = np.array([1, 3, 5, 7, 9, 11])\n",
    "print(\"Shape:\", array_uni.shape)\n",
    "print(\"Array_uni\", array_uni)"
   ]
  },
  {
   "cell_type": "code",
   "execution_count": 19,
   "id": "881b874a-2bd7-42d7-bcea-95421e1de17f",
   "metadata": {},
   "outputs": [
    {
     "data": {
      "text/plain": [
       "np.int64(9)"
      ]
     },
     "execution_count": 19,
     "metadata": {},
     "output_type": "execute_result"
    }
   ],
   "source": [
    "# Accediendo al quinto elemento del array.\n",
    "array_uni[4]"
   ]
  },
  {
   "cell_type": "code",
   "execution_count": 20,
   "id": "d9ed6b09-2a1f-43c0-a00c-65ed0ff4ff50",
   "metadata": {},
   "outputs": [
    {
     "data": {
      "text/plain": [
       "array([5, 7])"
      ]
     },
     "execution_count": 20,
     "metadata": {},
     "output_type": "execute_result"
    }
   ],
   "source": [
    "# Acceder al tercer y cuarto elemento del array\n",
    "array_uni[2:4]"
   ]
  },
  {
   "cell_type": "markdown",
   "id": "9a58493e-6549-463a-8774-3f45cb86521a",
   "metadata": {},
   "source": [
    "### Array Multidimensional."
   ]
  },
  {
   "cell_type": "code",
   "execution_count": 21,
   "id": "722cc0a7-44f6-43f4-b351-62b9a8fdcc8f",
   "metadata": {},
   "outputs": [
    {
     "name": "stdout",
     "output_type": "stream",
     "text": [
      "Shape: (2, 4)\n",
      "Array_multi:\n",
      " [[1 2 3 4]\n",
      " [5 6 7 8]]\n"
     ]
    }
   ],
   "source": [
    "# Crear un array multidimensional.\n",
    "array_multi = np.array([[1, 2, 3, 4], [5, 6, 7, 8]])\n",
    "print(\"Shape:\", array_multi.shape)\n",
    "print(\"Array_multi:\\n\", array_multi)"
   ]
  },
  {
   "cell_type": "code",
   "execution_count": 22,
   "id": "74aaadc1-ba5d-49df-96ec-dcebad08f31f",
   "metadata": {},
   "outputs": [
    {
     "data": {
      "text/plain": [
       "np.int64(4)"
      ]
     },
     "execution_count": 22,
     "metadata": {},
     "output_type": "execute_result"
    }
   ],
   "source": [
    "# Acceder al cuarto elemento del array.\n",
    "array_multi[0, 3]"
   ]
  },
  {
   "cell_type": "code",
   "execution_count": 23,
   "id": "776b417c-7543-4edf-b356-345344808b34",
   "metadata": {},
   "outputs": [
    {
     "data": {
      "text/plain": [
       "array([5, 6, 7, 8])"
      ]
     },
     "execution_count": 23,
     "metadata": {},
     "output_type": "execute_result"
    }
   ],
   "source": [
    "# Acceder a la segunda fila del array.\n",
    "array_multi[1, :]"
   ]
  },
  {
   "cell_type": "code",
   "execution_count": 24,
   "id": "305aba27-d97c-40f3-bc6b-5ff0fee2bcd8",
   "metadata": {},
   "outputs": [
    {
     "data": {
      "text/plain": [
       "array([3, 7])"
      ]
     },
     "execution_count": 24,
     "metadata": {},
     "output_type": "execute_result"
    }
   ],
   "source": [
    "# Acceder al primer elemento de las dos primeras filas del array.\n",
    "array_multi[0:2, 2]"
   ]
  },
  {
   "cell_type": "markdown",
   "id": "9ae7dcb5-bc76-4450-bded-84f21619db63",
   "metadata": {},
   "source": [
    "## Modificación de un array"
   ]
  },
  {
   "cell_type": "code",
   "execution_count": 25,
   "id": "38e88adf-f048-43d7-9772-d9e9334eb9ab",
   "metadata": {},
   "outputs": [
    {
     "name": "stdout",
     "output_type": "stream",
     "text": [
      "Shape: (28,)\n",
      "Array:\n",
      " [ 0  1  2  3  4  5  6  7  8  9 10 11 12 13 14 15 16 17 18 19 20 21 22 23\n",
      " 24 25 26 27]\n"
     ]
    }
   ],
   "source": [
    "# Crear un arreglo unidimensional e iniciaizarlo con un rango \n",
    "# de elementos 0-27\n",
    "array1 = np.arange(28)\n",
    "print(\"Shape:\", array1.shape)\n",
    "print(\"Array:\\n\", array1)"
   ]
  },
  {
   "cell_type": "code",
   "execution_count": 26,
   "id": "c465b4e5-2bc2-4daa-adec-f6a3f7c254a7",
   "metadata": {},
   "outputs": [
    {
     "name": "stdout",
     "output_type": "stream",
     "text": [
      "Shape: (7, 4)\n",
      "Array:\n",
      " [[ 0  1  2  3]\n",
      " [ 4  5  6  7]\n",
      " [ 8  9 10 11]\n",
      " [12 13 14 15]\n",
      " [16 17 18 19]\n",
      " [20 21 22 23]\n",
      " [24 25 26 27]]\n"
     ]
    }
   ],
   "source": [
    "# Cambiar las dimensiones del array y sus longitudes.\n",
    "array1.shape = (7, 4)\n",
    "print(\"Shape:\", array1.shape)\n",
    "print(\"Array:\\n\", array1)"
   ]
  },
  {
   "cell_type": "code",
   "execution_count": 27,
   "id": "0b27b39e-76e0-485d-9b6f-d8a37878aefe",
   "metadata": {},
   "outputs": [
    {
     "name": "stdout",
     "output_type": "stream",
     "text": [
      "Shape: (4, 7)\n",
      "Array:\n",
      " [[ 0  1  2  3  4  5  6]\n",
      " [ 7  8  9 10 11 12 13]\n",
      " [14 15 16 17 18 19 20]\n",
      " [21 22 23 24 25 26 27]]\n"
     ]
    }
   ],
   "source": [
    "# El ejemplo anterior me devuelve un nuevo array que apunta a los mismos datos.\n",
    "# Nota: modificaciones en el array, modificaran el otro array.\n",
    "array2 = array1.reshape(4, 7)\n",
    "print(\"Shape:\", array2.shape)\n",
    "print(\"Array:\\n\", array2)"
   ]
  },
  {
   "cell_type": "code",
   "execution_count": 28,
   "id": "61483246-564a-4507-ac09-67105bffdf1b",
   "metadata": {},
   "outputs": [
    {
     "name": "stdout",
     "output_type": "stream",
     "text": [
      "Array:\n",
      " [[ 0  1  2  3  4  5  6]\n",
      " [ 7  8  9 30 11 12 13]\n",
      " [14 15 16 17 18 19 20]\n",
      " [21 22 23 24 25 26 27]]\n"
     ]
    }
   ],
   "source": [
    "# Modificación del nuevo array devuelto\n",
    "array2[1, 3] = 30\n",
    "print(\"Array:\\n\", array2)"
   ]
  },
  {
   "cell_type": "code",
   "execution_count": 29,
   "id": "a7740ef1-2121-49fa-a64e-11eaeca5d7d3",
   "metadata": {},
   "outputs": [
    {
     "name": "stdout",
     "output_type": "stream",
     "text": [
      "Array1:\n",
      " [[ 0  1  2  3]\n",
      " [ 4  5  6  7]\n",
      " [ 8  9 30 11]\n",
      " [12 13 14 15]\n",
      " [16 17 18 19]\n",
      " [20 21 22 23]\n",
      " [24 25 26 27]]\n"
     ]
    }
   ],
   "source": [
    "print(\"Array1:\\n\", array1)"
   ]
  },
  {
   "cell_type": "code",
   "execution_count": 30,
   "id": "792c3ad3-8d93-4c92-aedc-aad7781329a1",
   "metadata": {},
   "outputs": [
    {
     "name": "stdout",
     "output_type": "stream",
     "text": [
      "Array1:  [ 0  1  2  3  4  5  6  7  8  9 30 11 12 13 14 15 16 17 18 19 20 21 22 23\n",
      " 24 25 26 27]\n"
     ]
    }
   ],
   "source": [
    "# Devolver el array a su estado original\n",
    "print(\"Array1: \", array1.ravel())"
   ]
  },
  {
   "cell_type": "markdown",
   "id": "4c22547b-d710-4084-b7de-2418fa9af430",
   "metadata": {},
   "source": [
    "## Operaciones Aritméticas con Arrays"
   ]
  },
  {
   "cell_type": "code",
   "execution_count": 31,
   "id": "15dd3595-523f-49a0-a00e-af274ccbdc1e",
   "metadata": {},
   "outputs": [
    {
     "name": "stdout",
     "output_type": "stream",
     "text": [
      "Array 1: [ 2  4  6  8 10 12 14 16]\n",
      "Array 2: [0 1 2 3 4 5 6 7]\n"
     ]
    }
   ],
   "source": [
    "array1 = np.arange(2, 18, 2)\n",
    "array2 = np.arange(8)\n",
    "print(\"Array 1:\", array1)\n",
    "print(\"Array 2:\", array2)"
   ]
  },
  {
   "cell_type": "code",
   "execution_count": 32,
   "id": "572324c4-61b8-40cf-a443-06f79ccf501f",
   "metadata": {},
   "outputs": [
    {
     "name": "stdout",
     "output_type": "stream",
     "text": [
      "[ 2  5  8 11 14 17 20 23]\n"
     ]
    }
   ],
   "source": [
    "# Suma\n",
    "print(array1 + array2)"
   ]
  },
  {
   "cell_type": "code",
   "execution_count": 33,
   "id": "48e5428a-298f-4d49-b085-a674a396e2ed",
   "metadata": {},
   "outputs": [
    {
     "name": "stdout",
     "output_type": "stream",
     "text": [
      "[2 3 4 5 6 7 8 9]\n"
     ]
    }
   ],
   "source": [
    "# Resta\n",
    "print(array1 - array2)"
   ]
  },
  {
   "cell_type": "code",
   "execution_count": 34,
   "id": "d366751d-41a5-4b40-8c52-76c661d9d37f",
   "metadata": {},
   "outputs": [
    {
     "name": "stdout",
     "output_type": "stream",
     "text": [
      "[  0   4  12  24  40  60  84 112]\n"
     ]
    }
   ],
   "source": [
    "# Multiplicación\n",
    "# Nota: No es una multiplicación de matrices.\n",
    "print(array1 * array2)"
   ]
  },
  {
   "cell_type": "markdown",
   "id": "a8341021-165f-4f96-abc2-1493c69ef66d",
   "metadata": {},
   "source": [
    "## Broadcasting\n",
    "\n",
    "Si se aplican operaciones aritméticas sobre arrays que no tienen la misma forma (shape), Numpy aplica una propiedad que se llama Broadcasting."
   ]
  },
  {
   "cell_type": "code",
   "execution_count": 36,
   "id": "2854a736-278f-41b9-a7e7-4ba002c1bf03",
   "metadata": {},
   "outputs": [
    {
     "name": "stdout",
     "output_type": "stream",
     "text": [
      "Shape: (5,)\n",
      "Array1:\n",
      " [0 1 2 3 4]\n",
      "\n",
      "\n",
      "Shape: (1,)\n",
      "Array:\n",
      " [3]\n"
     ]
    }
   ],
   "source": [
    "array1 = np.arange(5)\n",
    "array2 = np.array([3])\n",
    "print(\"Shape:\", array1.shape)\n",
    "print(\"Array1:\\n\", array1)\n",
    "print(\"\\n\")\n",
    "print(\"Shape:\", array2.shape)\n",
    "print(\"Array:\\n\", array2)"
   ]
  },
  {
   "cell_type": "code",
   "execution_count": 37,
   "id": "cd5cc35c-2232-4796-bf9a-62f91fbd43df",
   "metadata": {},
   "outputs": [
    {
     "data": {
      "text/plain": [
       "array([3, 4, 5, 6, 7])"
      ]
     },
     "execution_count": 37,
     "metadata": {},
     "output_type": "execute_result"
    }
   ],
   "source": [
    "# Suma de ambos Arrays\n",
    "array1 + array2"
   ]
  },
  {
   "cell_type": "code",
   "execution_count": 38,
   "id": "423a5502-eaba-42fa-a310-95a03d23c33d",
   "metadata": {},
   "outputs": [
    {
     "data": {
      "text/plain": [
       "array([ 0,  3,  6,  9, 12])"
      ]
     },
     "execution_count": 38,
     "metadata": {},
     "output_type": "execute_result"
    }
   ],
   "source": [
    "# Multiplicación\n",
    "array1 * array2"
   ]
  },
  {
   "cell_type": "markdown",
   "id": "d470a04c-4e1a-4b07-8e85-dfc8833d6419",
   "metadata": {},
   "source": [
    "## Funciones estadisticas sobre Arrays"
   ]
  },
  {
   "cell_type": "code",
   "execution_count": 39,
   "id": "8fc69bdb-ea50-43d1-8800-fd9b476dd3d2",
   "metadata": {},
   "outputs": [
    {
     "name": "stdout",
     "output_type": "stream",
     "text": [
      "Array1:\n",
      " [ 1  3  5  7  9 11 13 15 17 19]\n"
     ]
    }
   ],
   "source": [
    "#Creación de un array unidimensional\n",
    "array1 = np.arange(1, 20, 2)\n",
    "print(\"Array1:\\n\", array1)"
   ]
  },
  {
   "cell_type": "code",
   "execution_count": 40,
   "id": "aba3b543-246b-4a83-8261-35de43d08381",
   "metadata": {},
   "outputs": [
    {
     "data": {
      "text/plain": [
       "np.float64(10.0)"
      ]
     },
     "execution_count": 40,
     "metadata": {},
     "output_type": "execute_result"
    }
   ],
   "source": [
    "# Media de los elementos del array\n",
    "array1.mean()"
   ]
  },
  {
   "cell_type": "code",
   "execution_count": 41,
   "id": "a43374c7-d237-4683-9497-a68786527ccd",
   "metadata": {},
   "outputs": [
    {
     "data": {
      "text/plain": [
       "np.int64(100)"
      ]
     },
     "execution_count": 41,
     "metadata": {},
     "output_type": "execute_result"
    }
   ],
   "source": [
    "# SUma de los elementos del array\n",
    "array1.sum()"
   ]
  },
  {
   "cell_type": "markdown",
   "id": "4ad363cf-4cd2-4e29-ba1e-9845e6fa664c",
   "metadata": {},
   "source": [
    "## Funciones universales proporcionadas por numpy: **ufunc**."
   ]
  },
  {
   "cell_type": "code",
   "execution_count": 42,
   "id": "81a5a5db-4ac3-47aa-9f2a-3d9fe85a9cc0",
   "metadata": {},
   "outputs": [
    {
     "data": {
      "text/plain": [
       "array([  1,   9,  25,  49,  81, 121, 169, 225, 289, 361])"
      ]
     },
     "execution_count": 42,
     "metadata": {},
     "output_type": "execute_result"
    }
   ],
   "source": [
    "# Cuadrado de los elementos del array\n",
    "np.square(array1)"
   ]
  },
  {
   "cell_type": "code",
   "execution_count": 43,
   "id": "5be3b9f9-a206-4376-bc08-4dd6516782c5",
   "metadata": {},
   "outputs": [
    {
     "data": {
      "text/plain": [
       "array([1.        , 1.73205081, 2.23606798, 2.64575131, 3.        ,\n",
       "       3.31662479, 3.60555128, 3.87298335, 4.12310563, 4.35889894])"
      ]
     },
     "execution_count": 43,
     "metadata": {},
     "output_type": "execute_result"
    }
   ],
   "source": [
    "# Raiz cuadrada de los elementos del array.\n",
    "np.sqrt(array1)"
   ]
  },
  {
   "cell_type": "code",
   "execution_count": 44,
   "id": "97fa6cf8-e121-4c19-aa03-525cc0cfbbad",
   "metadata": {},
   "outputs": [
    {
     "data": {
      "text/plain": [
       "array([2.71828183e+00, 2.00855369e+01, 1.48413159e+02, 1.09663316e+03,\n",
       "       8.10308393e+03, 5.98741417e+04, 4.42413392e+05, 3.26901737e+06,\n",
       "       2.41549528e+07, 1.78482301e+08])"
      ]
     },
     "execution_count": 44,
     "metadata": {},
     "output_type": "execute_result"
    }
   ],
   "source": [
    "# Exponencial de los elementos del array.\n",
    "np.exp(array1)"
   ]
  },
  {
   "cell_type": "code",
   "execution_count": 45,
   "id": "05db2925-df5e-4f72-96ae-be4f7c61998a",
   "metadata": {},
   "outputs": [
    {
     "data": {
      "text/plain": [
       "array([0.        , 1.09861229, 1.60943791, 1.94591015, 2.19722458,\n",
       "       2.39789527, 2.56494936, 2.7080502 , 2.83321334, 2.94443898])"
      ]
     },
     "execution_count": 45,
     "metadata": {},
     "output_type": "execute_result"
    }
   ],
   "source": [
    "# log de los elementos del array \n",
    "np.log(array1)"
   ]
  },
  {
   "cell_type": "code",
   "execution_count": null,
   "id": "a01f9635-ce76-41f7-93cf-82c75f2da4b0",
   "metadata": {},
   "outputs": [],
   "source": []
  }
 ],
 "metadata": {
  "kernelspec": {
   "display_name": "Python 3 (ipykernel)",
   "language": "python",
   "name": "python3"
  },
  "language_info": {
   "codemirror_mode": {
    "name": "ipython",
    "version": 3
   },
   "file_extension": ".py",
   "mimetype": "text/x-python",
   "name": "python",
   "nbconvert_exporter": "python",
   "pygments_lexer": "ipython3",
   "version": "3.11.7"
  }
 },
 "nbformat": 4,
 "nbformat_minor": 5
}
